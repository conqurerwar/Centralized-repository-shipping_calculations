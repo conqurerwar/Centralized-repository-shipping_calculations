{
 "cells": [
  {
   "cell_type": "code",
   "execution_count": 1,
   "id": "97a17bfd",
   "metadata": {
    "execution": {
     "iopub.execute_input": "2025-08-22T04:41:28.104116Z",
     "iopub.status.busy": "2025-08-22T04:41:28.103326Z",
     "iopub.status.idle": "2025-08-22T04:41:32.158648Z",
     "shell.execute_reply": "2025-08-22T04:41:32.157677Z"
    },
    "id": "17jBetjYZQzE",
    "papermill": {
     "duration": 4.064059,
     "end_time": "2025-08-22T04:41:32.160439",
     "exception": false,
     "start_time": "2025-08-22T04:41:28.096380",
     "status": "completed"
    },
    "tags": []
   },
   "outputs": [],
   "source": [
    "import numpy as np\n",
    "import pandas as pd\n",
    "from sklearn.model_selection import train_test_split\n",
    "from sklearn.linear_model import LogisticRegression\n",
    "from sklearn.metrics import accuracy_score\n",
    "from sklearn.preprocessing import LabelEncoder, OneHotEncoder\n",
    "from sklearn.compose import ColumnTransformer"
   ]
  },
  {
   "cell_type": "code",
   "execution_count": 2,
   "id": "99708fa6",
   "metadata": {
    "execution": {
     "iopub.execute_input": "2025-08-22T04:41:32.172273Z",
     "iopub.status.busy": "2025-08-22T04:41:32.171352Z",
     "iopub.status.idle": "2025-08-22T04:41:32.181800Z",
     "shell.execute_reply": "2025-08-22T04:41:32.180978Z"
    },
    "papermill": {
     "duration": 0.017631,
     "end_time": "2025-08-22T04:41:32.183338",
     "exception": false,
     "start_time": "2025-08-22T04:41:32.165707",
     "status": "completed"
    },
    "tags": []
   },
   "outputs": [
    {
     "data": {
      "text/plain": [
       "['personality_datasert.csv']"
      ]
     },
     "execution_count": 2,
     "metadata": {},
     "output_type": "execute_result"
    }
   ],
   "source": [
    "import os\n",
    "os.listdir(\"/kaggle/input/personality-dataset\")"
   ]
  },
  {
   "cell_type": "code",
   "execution_count": 3,
   "id": "5bf18a23",
   "metadata": {
    "execution": {
     "iopub.execute_input": "2025-08-22T04:41:32.194947Z",
     "iopub.status.busy": "2025-08-22T04:41:32.194059Z",
     "iopub.status.idle": "2025-08-22T04:41:32.218671Z",
     "shell.execute_reply": "2025-08-22T04:41:32.217905Z"
    },
    "id": "VQP7BfETdTCk",
    "papermill": {
     "duration": 0.031916,
     "end_time": "2025-08-22T04:41:32.220288",
     "exception": false,
     "start_time": "2025-08-22T04:41:32.188372",
     "status": "completed"
    },
    "tags": []
   },
   "outputs": [],
   "source": [
    "df = pd.read_csv(\"/kaggle/input/personality-dataset/personality_datasert.csv\")"
   ]
  },
  {
   "cell_type": "code",
   "execution_count": 4,
   "id": "2bbfb85b",
   "metadata": {
    "execution": {
     "iopub.execute_input": "2025-08-22T04:41:32.232274Z",
     "iopub.status.busy": "2025-08-22T04:41:32.231415Z",
     "iopub.status.idle": "2025-08-22T04:41:32.259767Z",
     "shell.execute_reply": "2025-08-22T04:41:32.258571Z"
    },
    "id": "JZw_bg_-dZGz",
    "outputId": "78c99a2c-c7d8-4ecb-d3ac-2022d136a300",
    "papermill": {
     "duration": 0.036003,
     "end_time": "2025-08-22T04:41:32.261508",
     "exception": false,
     "start_time": "2025-08-22T04:41:32.225505",
     "status": "completed"
    },
    "tags": []
   },
   "outputs": [
    {
     "data": {
      "text/html": [
       "<div>\n",
       "<style scoped>\n",
       "    .dataframe tbody tr th:only-of-type {\n",
       "        vertical-align: middle;\n",
       "    }\n",
       "\n",
       "    .dataframe tbody tr th {\n",
       "        vertical-align: top;\n",
       "    }\n",
       "\n",
       "    .dataframe thead th {\n",
       "        text-align: right;\n",
       "    }\n",
       "</style>\n",
       "<table border=\"1\" class=\"dataframe\">\n",
       "  <thead>\n",
       "    <tr style=\"text-align: right;\">\n",
       "      <th></th>\n",
       "      <th>Time_spent_Alone</th>\n",
       "      <th>Stage_fear</th>\n",
       "      <th>Social_event_attendance</th>\n",
       "      <th>Going_outside</th>\n",
       "      <th>Drained_after_socializing</th>\n",
       "      <th>Friends_circle_size</th>\n",
       "      <th>Post_frequency</th>\n",
       "      <th>Personality</th>\n",
       "    </tr>\n",
       "  </thead>\n",
       "  <tbody>\n",
       "    <tr>\n",
       "      <th>0</th>\n",
       "      <td>4.0</td>\n",
       "      <td>No</td>\n",
       "      <td>4.0</td>\n",
       "      <td>6.0</td>\n",
       "      <td>No</td>\n",
       "      <td>13.0</td>\n",
       "      <td>5.0</td>\n",
       "      <td>Extrovert</td>\n",
       "    </tr>\n",
       "    <tr>\n",
       "      <th>1</th>\n",
       "      <td>9.0</td>\n",
       "      <td>Yes</td>\n",
       "      <td>0.0</td>\n",
       "      <td>0.0</td>\n",
       "      <td>Yes</td>\n",
       "      <td>0.0</td>\n",
       "      <td>3.0</td>\n",
       "      <td>Introvert</td>\n",
       "    </tr>\n",
       "    <tr>\n",
       "      <th>2</th>\n",
       "      <td>9.0</td>\n",
       "      <td>Yes</td>\n",
       "      <td>1.0</td>\n",
       "      <td>2.0</td>\n",
       "      <td>Yes</td>\n",
       "      <td>5.0</td>\n",
       "      <td>2.0</td>\n",
       "      <td>Introvert</td>\n",
       "    </tr>\n",
       "  </tbody>\n",
       "</table>\n",
       "</div>"
      ],
      "text/plain": [
       "   Time_spent_Alone Stage_fear  Social_event_attendance  Going_outside  \\\n",
       "0               4.0         No                      4.0            6.0   \n",
       "1               9.0        Yes                      0.0            0.0   \n",
       "2               9.0        Yes                      1.0            2.0   \n",
       "\n",
       "  Drained_after_socializing  Friends_circle_size  Post_frequency Personality  \n",
       "0                        No                 13.0             5.0   Extrovert  \n",
       "1                       Yes                  0.0             3.0   Introvert  \n",
       "2                       Yes                  5.0             2.0   Introvert  "
      ]
     },
     "execution_count": 4,
     "metadata": {},
     "output_type": "execute_result"
    }
   ],
   "source": [
    "df.head(3)"
   ]
  },
  {
   "cell_type": "code",
   "execution_count": 5,
   "id": "a2f76679",
   "metadata": {
    "execution": {
     "iopub.execute_input": "2025-08-22T04:41:32.273178Z",
     "iopub.status.busy": "2025-08-22T04:41:32.272834Z",
     "iopub.status.idle": "2025-08-22T04:41:32.278481Z",
     "shell.execute_reply": "2025-08-22T04:41:32.277641Z"
    },
    "id": "8WtwIf44rH-N",
    "outputId": "48f78390-1804-42d3-bdfb-fd1145e48307",
    "papermill": {
     "duration": 0.013275,
     "end_time": "2025-08-22T04:41:32.280022",
     "exception": false,
     "start_time": "2025-08-22T04:41:32.266747",
     "status": "completed"
    },
    "tags": []
   },
   "outputs": [
    {
     "data": {
      "text/plain": [
       "(2900, 8)"
      ]
     },
     "execution_count": 5,
     "metadata": {},
     "output_type": "execute_result"
    }
   ],
   "source": [
    "df.shape"
   ]
  },
  {
   "cell_type": "code",
   "execution_count": 6,
   "id": "f11f72d2",
   "metadata": {
    "execution": {
     "iopub.execute_input": "2025-08-22T04:41:32.291631Z",
     "iopub.status.busy": "2025-08-22T04:41:32.291342Z",
     "iopub.status.idle": "2025-08-22T04:41:32.319290Z",
     "shell.execute_reply": "2025-08-22T04:41:32.318243Z"
    },
    "id": "XxuBL6OvrRak",
    "outputId": "428aadbf-0d1f-41c8-9f0e-fed760b39657",
    "papermill": {
     "duration": 0.035451,
     "end_time": "2025-08-22T04:41:32.320734",
     "exception": false,
     "start_time": "2025-08-22T04:41:32.285283",
     "status": "completed"
    },
    "tags": []
   },
   "outputs": [
    {
     "name": "stdout",
     "output_type": "stream",
     "text": [
      "<class 'pandas.core.frame.DataFrame'>\n",
      "RangeIndex: 2900 entries, 0 to 2899\n",
      "Data columns (total 8 columns):\n",
      " #   Column                     Non-Null Count  Dtype  \n",
      "---  ------                     --------------  -----  \n",
      " 0   Time_spent_Alone           2900 non-null   float64\n",
      " 1   Stage_fear                 2900 non-null   object \n",
      " 2   Social_event_attendance    2900 non-null   float64\n",
      " 3   Going_outside              2900 non-null   float64\n",
      " 4   Drained_after_socializing  2900 non-null   object \n",
      " 5   Friends_circle_size        2900 non-null   float64\n",
      " 6   Post_frequency             2900 non-null   float64\n",
      " 7   Personality                2900 non-null   object \n",
      "dtypes: float64(5), object(3)\n",
      "memory usage: 181.4+ KB\n"
     ]
    }
   ],
   "source": [
    "df.info()"
   ]
  },
  {
   "cell_type": "code",
   "execution_count": 7,
   "id": "fac8b1d6",
   "metadata": {
    "execution": {
     "iopub.execute_input": "2025-08-22T04:41:32.334287Z",
     "iopub.status.busy": "2025-08-22T04:41:32.333139Z",
     "iopub.status.idle": "2025-08-22T04:41:32.363214Z",
     "shell.execute_reply": "2025-08-22T04:41:32.362197Z"
    },
    "id": "j1XJOqfvrTU9",
    "outputId": "dd84f331-b4d9-4654-e928-0defa4c8a3d5",
    "papermill": {
     "duration": 0.038685,
     "end_time": "2025-08-22T04:41:32.364762",
     "exception": false,
     "start_time": "2025-08-22T04:41:32.326077",
     "status": "completed"
    },
    "tags": []
   },
   "outputs": [
    {
     "data": {
      "text/html": [
       "<div>\n",
       "<style scoped>\n",
       "    .dataframe tbody tr th:only-of-type {\n",
       "        vertical-align: middle;\n",
       "    }\n",
       "\n",
       "    .dataframe tbody tr th {\n",
       "        vertical-align: top;\n",
       "    }\n",
       "\n",
       "    .dataframe thead th {\n",
       "        text-align: right;\n",
       "    }\n",
       "</style>\n",
       "<table border=\"1\" class=\"dataframe\">\n",
       "  <thead>\n",
       "    <tr style=\"text-align: right;\">\n",
       "      <th></th>\n",
       "      <th>Time_spent_Alone</th>\n",
       "      <th>Social_event_attendance</th>\n",
       "      <th>Going_outside</th>\n",
       "      <th>Friends_circle_size</th>\n",
       "      <th>Post_frequency</th>\n",
       "    </tr>\n",
       "  </thead>\n",
       "  <tbody>\n",
       "    <tr>\n",
       "      <th>count</th>\n",
       "      <td>2900.000000</td>\n",
       "      <td>2900.000000</td>\n",
       "      <td>2900.000000</td>\n",
       "      <td>2900.000000</td>\n",
       "      <td>2900.000000</td>\n",
       "    </tr>\n",
       "    <tr>\n",
       "      <th>mean</th>\n",
       "      <td>4.505816</td>\n",
       "      <td>3.963354</td>\n",
       "      <td>3.000000</td>\n",
       "      <td>6.268863</td>\n",
       "      <td>3.564727</td>\n",
       "    </tr>\n",
       "    <tr>\n",
       "      <th>std</th>\n",
       "      <td>3.441180</td>\n",
       "      <td>2.872608</td>\n",
       "      <td>2.221597</td>\n",
       "      <td>4.232340</td>\n",
       "      <td>2.893587</td>\n",
       "    </tr>\n",
       "    <tr>\n",
       "      <th>min</th>\n",
       "      <td>0.000000</td>\n",
       "      <td>0.000000</td>\n",
       "      <td>0.000000</td>\n",
       "      <td>0.000000</td>\n",
       "      <td>0.000000</td>\n",
       "    </tr>\n",
       "    <tr>\n",
       "      <th>25%</th>\n",
       "      <td>2.000000</td>\n",
       "      <td>2.000000</td>\n",
       "      <td>1.000000</td>\n",
       "      <td>3.000000</td>\n",
       "      <td>1.000000</td>\n",
       "    </tr>\n",
       "    <tr>\n",
       "      <th>50%</th>\n",
       "      <td>4.000000</td>\n",
       "      <td>3.963354</td>\n",
       "      <td>3.000000</td>\n",
       "      <td>5.000000</td>\n",
       "      <td>3.000000</td>\n",
       "    </tr>\n",
       "    <tr>\n",
       "      <th>75%</th>\n",
       "      <td>7.000000</td>\n",
       "      <td>6.000000</td>\n",
       "      <td>5.000000</td>\n",
       "      <td>10.000000</td>\n",
       "      <td>6.000000</td>\n",
       "    </tr>\n",
       "    <tr>\n",
       "      <th>max</th>\n",
       "      <td>11.000000</td>\n",
       "      <td>10.000000</td>\n",
       "      <td>7.000000</td>\n",
       "      <td>15.000000</td>\n",
       "      <td>10.000000</td>\n",
       "    </tr>\n",
       "  </tbody>\n",
       "</table>\n",
       "</div>"
      ],
      "text/plain": [
       "       Time_spent_Alone  Social_event_attendance  Going_outside  \\\n",
       "count       2900.000000              2900.000000    2900.000000   \n",
       "mean           4.505816                 3.963354       3.000000   \n",
       "std            3.441180                 2.872608       2.221597   \n",
       "min            0.000000                 0.000000       0.000000   \n",
       "25%            2.000000                 2.000000       1.000000   \n",
       "50%            4.000000                 3.963354       3.000000   \n",
       "75%            7.000000                 6.000000       5.000000   \n",
       "max           11.000000                10.000000       7.000000   \n",
       "\n",
       "       Friends_circle_size  Post_frequency  \n",
       "count          2900.000000     2900.000000  \n",
       "mean              6.268863        3.564727  \n",
       "std               4.232340        2.893587  \n",
       "min               0.000000        0.000000  \n",
       "25%               3.000000        1.000000  \n",
       "50%               5.000000        3.000000  \n",
       "75%              10.000000        6.000000  \n",
       "max              15.000000       10.000000  "
      ]
     },
     "execution_count": 7,
     "metadata": {},
     "output_type": "execute_result"
    }
   ],
   "source": [
    "df.describe()"
   ]
  },
  {
   "cell_type": "code",
   "execution_count": 8,
   "id": "d404ec95",
   "metadata": {
    "execution": {
     "iopub.execute_input": "2025-08-22T04:41:32.377762Z",
     "iopub.status.busy": "2025-08-22T04:41:32.376763Z",
     "iopub.status.idle": "2025-08-22T04:41:32.392005Z",
     "shell.execute_reply": "2025-08-22T04:41:32.390690Z"
    },
    "id": "5LzEmdIsrVnD",
    "outputId": "f2eb5f1c-0ba4-4b2b-dad5-fb32c739ce12",
    "papermill": {
     "duration": 0.023189,
     "end_time": "2025-08-22T04:41:32.393591",
     "exception": false,
     "start_time": "2025-08-22T04:41:32.370402",
     "status": "completed"
    },
    "tags": []
   },
   "outputs": [
    {
     "data": {
      "text/html": [
       "<div>\n",
       "<style scoped>\n",
       "    .dataframe tbody tr th:only-of-type {\n",
       "        vertical-align: middle;\n",
       "    }\n",
       "\n",
       "    .dataframe tbody tr th {\n",
       "        vertical-align: top;\n",
       "    }\n",
       "\n",
       "    .dataframe thead th {\n",
       "        text-align: right;\n",
       "    }\n",
       "</style>\n",
       "<table border=\"1\" class=\"dataframe\">\n",
       "  <thead>\n",
       "    <tr style=\"text-align: right;\">\n",
       "      <th></th>\n",
       "      <th>Time_spent_Alone</th>\n",
       "      <th>Social_event_attendance</th>\n",
       "      <th>Going_outside</th>\n",
       "      <th>Friends_circle_size</th>\n",
       "      <th>Post_frequency</th>\n",
       "    </tr>\n",
       "  </thead>\n",
       "  <tbody>\n",
       "    <tr>\n",
       "      <th>Time_spent_Alone</th>\n",
       "      <td>1.000000</td>\n",
       "      <td>-0.718139</td>\n",
       "      <td>-0.735247</td>\n",
       "      <td>-0.701665</td>\n",
       "      <td>-0.718072</td>\n",
       "    </tr>\n",
       "    <tr>\n",
       "      <th>Social_event_attendance</th>\n",
       "      <td>-0.718139</td>\n",
       "      <td>1.000000</td>\n",
       "      <td>0.731941</td>\n",
       "      <td>0.718518</td>\n",
       "      <td>0.727732</td>\n",
       "    </tr>\n",
       "    <tr>\n",
       "      <th>Going_outside</th>\n",
       "      <td>-0.735247</td>\n",
       "      <td>0.731941</td>\n",
       "      <td>1.000000</td>\n",
       "      <td>0.718327</td>\n",
       "      <td>0.754758</td>\n",
       "    </tr>\n",
       "    <tr>\n",
       "      <th>Friends_circle_size</th>\n",
       "      <td>-0.701665</td>\n",
       "      <td>0.718518</td>\n",
       "      <td>0.718327</td>\n",
       "      <td>1.000000</td>\n",
       "      <td>0.690381</td>\n",
       "    </tr>\n",
       "    <tr>\n",
       "      <th>Post_frequency</th>\n",
       "      <td>-0.718072</td>\n",
       "      <td>0.727732</td>\n",
       "      <td>0.754758</td>\n",
       "      <td>0.690381</td>\n",
       "      <td>1.000000</td>\n",
       "    </tr>\n",
       "  </tbody>\n",
       "</table>\n",
       "</div>"
      ],
      "text/plain": [
       "                         Time_spent_Alone  Social_event_attendance  \\\n",
       "Time_spent_Alone                 1.000000                -0.718139   \n",
       "Social_event_attendance         -0.718139                 1.000000   \n",
       "Going_outside                   -0.735247                 0.731941   \n",
       "Friends_circle_size             -0.701665                 0.718518   \n",
       "Post_frequency                  -0.718072                 0.727732   \n",
       "\n",
       "                         Going_outside  Friends_circle_size  Post_frequency  \n",
       "Time_spent_Alone             -0.735247            -0.701665       -0.718072  \n",
       "Social_event_attendance       0.731941             0.718518        0.727732  \n",
       "Going_outside                 1.000000             0.718327        0.754758  \n",
       "Friends_circle_size           0.718327             1.000000        0.690381  \n",
       "Post_frequency                0.754758             0.690381        1.000000  "
      ]
     },
     "execution_count": 8,
     "metadata": {},
     "output_type": "execute_result"
    }
   ],
   "source": [
    "df.corr(numeric_only=True)"
   ]
  },
  {
   "cell_type": "code",
   "execution_count": 9,
   "id": "a03076b4",
   "metadata": {
    "execution": {
     "iopub.execute_input": "2025-08-22T04:41:32.406379Z",
     "iopub.status.busy": "2025-08-22T04:41:32.405718Z",
     "iopub.status.idle": "2025-08-22T04:41:33.083520Z",
     "shell.execute_reply": "2025-08-22T04:41:33.082659Z"
    },
    "id": "6SiFNCWKrZ0C",
    "papermill": {
     "duration": 0.685772,
     "end_time": "2025-08-22T04:41:33.085144",
     "exception": false,
     "start_time": "2025-08-22T04:41:32.399372",
     "status": "completed"
    },
    "tags": []
   },
   "outputs": [],
   "source": [
    "import matplotlib.pyplot as plt\n",
    "import seaborn as sns"
   ]
  },
  {
   "cell_type": "code",
   "execution_count": 10,
   "id": "ecdae4ee",
   "metadata": {
    "execution": {
     "iopub.execute_input": "2025-08-22T04:41:33.097649Z",
     "iopub.status.busy": "2025-08-22T04:41:33.097016Z",
     "iopub.status.idle": "2025-08-22T04:41:33.607293Z",
     "shell.execute_reply": "2025-08-22T04:41:33.606559Z"
    },
    "id": "QAUFD0k2rhQk",
    "outputId": "205fae2e-bea8-44ac-fe79-189444def603",
    "papermill": {
     "duration": 0.518056,
     "end_time": "2025-08-22T04:41:33.608929",
     "exception": false,
     "start_time": "2025-08-22T04:41:33.090873",
     "status": "completed"
    },
    "tags": []
   },
   "outputs": [
    {
     "data": {
      "text/plain": [
       "<Axes: xlabel='Personality', ylabel='count'>"
      ]
     },
     "execution_count": 10,
     "metadata": {},
     "output_type": "execute_result"
    },
    {
     "data": {
      "image/png": "[encoded data removed]",
      "text/plain": [
       "<Figure size 640x480 with 1 Axes>"
      ]
     },
     "metadata": {},
     "output_type": "display_data"
    }
   ],
   "source": [
    "sns.countplot(x='Personality',hue=df['Friends_circle_size'],data=df)"
   ]
  },
  {
   "cell_type": "code",
   "execution_count": 11,
   "id": "93130fad",
   "metadata": {
    "execution": {
     "iopub.execute_input": "2025-08-22T04:41:33.623394Z",
     "iopub.status.busy": "2025-08-22T04:41:33.623098Z",
     "iopub.status.idle": "2025-08-22T04:41:33.835498Z",
     "shell.execute_reply": "2025-08-22T04:41:33.834436Z"
    },
    "id": "mA613LPbropB",
    "outputId": "bd0048b5-4b27-438f-859e-1d8fbe4fd12e",
    "papermill": {
     "duration": 0.221477,
     "end_time": "2025-08-22T04:41:33.837092",
     "exception": false,
     "start_time": "2025-08-22T04:41:33.615615",
     "status": "completed"
    },
    "tags": []
   },
   "outputs": [
    {
     "data": {
      "text/plain": [
       "<Axes: xlabel='Personality'>"
      ]
     },
     "execution_count": 11,
     "metadata": {},
     "output_type": "execute_result"
    },
    {
     "data": {
      "image/png": "[encoded data removed]",
      "text/plain": [
       "<Figure size 640x480 with 1 Axes>"
      ]
     },
     "metadata": {},
     "output_type": "display_data"
    }
   ],
   "source": [
    "df['Personality'].value_counts().plot(kind='bar')"
   ]
  },
  {
   "cell_type": "code",
   "execution_count": 12,
   "id": "2a7fd2a5",
   "metadata": {
    "execution": {
     "iopub.execute_input": "2025-08-22T04:41:33.851961Z",
     "iopub.status.busy": "2025-08-22T04:41:33.851592Z",
     "iopub.status.idle": "2025-08-22T04:41:33.973378Z",
     "shell.execute_reply": "2025-08-22T04:41:33.972501Z"
    },
    "id": "btrzroNsruvR",
    "outputId": "8c5d5bc9-7bc3-42b7-ee9c-03d7aaee8dfd",
    "papermill": {
     "duration": 0.131105,
     "end_time": "2025-08-22T04:41:33.975044",
     "exception": false,
     "start_time": "2025-08-22T04:41:33.843939",
     "status": "completed"
    },
    "tags": []
   },
   "outputs": [
    {
     "data": {
      "text/plain": [
       "<Axes: ylabel='count'>"
      ]
     },
     "execution_count": 12,
     "metadata": {},
     "output_type": "execute_result"
    },
    {
     "data": {
      "image/png": "[encoded data removed]",
      "text/plain": [
       "<Figure size 640x480 with 1 Axes>"
      ]
     },
     "metadata": {},
     "output_type": "display_data"
    }
   ],
   "source": [
    "df['Drained_after_socializing'].value_counts().plot(kind='pie',autopct='%.2f')"
   ]
  },
  {
   "cell_type": "code",
   "execution_count": 13,
   "id": "1d22254a",
   "metadata": {
    "execution": {
     "iopub.execute_input": "2025-08-22T04:41:33.991102Z",
     "iopub.status.busy": "2025-08-22T04:41:33.990211Z",
     "iopub.status.idle": "2025-08-22T04:41:34.279311Z",
     "shell.execute_reply": "2025-08-22T04:41:34.278325Z"
    },
    "id": "1etTRFDxrzLo",
    "outputId": "fafdebac-2b5e-48a0-829d-75d433252c29",
    "papermill": {
     "duration": 0.298459,
     "end_time": "2025-08-22T04:41:34.280748",
     "exception": false,
     "start_time": "2025-08-22T04:41:33.982289",
     "status": "completed"
    },
    "tags": []
   },
   "outputs": [
    {
     "name": "stderr",
     "output_type": "stream",
     "text": [
      "/usr/local/lib/python3.11/dist-packages/seaborn/_oldcore.py:1119: FutureWarning: use_inf_as_na option is deprecated and will be removed in a future version. Convert inf values to NaN before operating instead.\n",
      "  with pd.option_context('mode.use_inf_as_na', True):\n"
     ]
    },
    {
     "data": {
      "text/plain": [
       "<Axes: xlabel='Time_spent_Alone', ylabel='Count'>"
      ]
     },
     "execution_count": 13,
     "metadata": {},
     "output_type": "execute_result"
    },
    {
     "data": {
      "image/png": "[encoded data removed]",
      "text/plain": [
       "<Figure size 640x480 with 1 Axes>"
      ]
     },
     "metadata": {},
     "output_type": "display_data"
    }
   ],
   "source": [
    "sns.histplot(x='Time_spent_Alone',data=df,kde=True)"
   ]
  },
  {
   "cell_type": "code",
   "execution_count": 14,
   "id": "f9b6be78",
   "metadata": {
    "execution": {
     "iopub.execute_input": "2025-08-22T04:41:34.297352Z",
     "iopub.status.busy": "2025-08-22T04:41:34.297044Z",
     "iopub.status.idle": "2025-08-22T04:41:34.434033Z",
     "shell.execute_reply": "2025-08-22T04:41:34.432926Z"
    },
    "id": "3HhHVTfqry_p",
    "outputId": "ea2c9ab1-2883-4c90-870e-de9d7fa83417",
    "papermill": {
     "duration": 0.147364,
     "end_time": "2025-08-22T04:41:34.435935",
     "exception": false,
     "start_time": "2025-08-22T04:41:34.288571",
     "status": "completed"
    },
    "tags": []
   },
   "outputs": [
    {
     "data": {
      "text/plain": [
       "<Axes: xlabel='Friends_circle_size'>"
      ]
     },
     "execution_count": 14,
     "metadata": {},
     "output_type": "execute_result"
    },
    {
     "data": {
      "image/png": "[encoded data removed]",
      "text/plain": [
       "<Figure size 640x480 with 1 Axes>"
      ]
     },
     "metadata": {},
     "output_type": "display_data"
    }
   ],
   "source": [
    "sns.boxplot(x='Friends_circle_size',data=df)"
   ]
  },
  {
   "cell_type": "code",
   "execution_count": 15,
   "id": "0e05802d",
   "metadata": {
    "execution": {
     "iopub.execute_input": "2025-08-22T04:41:34.456006Z",
     "iopub.status.busy": "2025-08-22T04:41:34.454807Z",
     "iopub.status.idle": "2025-08-22T04:41:34.859601Z",
     "shell.execute_reply": "2025-08-22T04:41:34.858717Z"
    },
    "id": "BD3-qTAhr8R4",
    "outputId": "5c2777a2-9cda-487f-f55c-edfad22c8278",
    "papermill": {
     "duration": 0.416249,
     "end_time": "2025-08-22T04:41:34.861005",
     "exception": false,
     "start_time": "2025-08-22T04:41:34.444756",
     "status": "completed"
    },
    "tags": []
   },
   "outputs": [
    {
     "data": {
      "text/plain": [
       "<Axes: xlabel='Time_spent_Alone', ylabel='Going_outside'>"
      ]
     },
     "execution_count": 15,
     "metadata": {},
     "output_type": "execute_result"
    },
    {
     "data": {
      "image/png": "[encoded data removed]",
      "text/plain": [
       "<Figure size 640x480 with 1 Axes>"
      ]
     },
     "metadata": {},
     "output_type": "display_data"
    }
   ],
   "source": [
    "sns.scatterplot(x='Time_spent_Alone',y='Going_outside',data=df,hue=df['Personality'])"
   ]
  },
  {
   "cell_type": "code",
   "execution_count": 16,
   "id": "f45a3594",
   "metadata": {
    "execution": {
     "iopub.execute_input": "2025-08-22T04:41:34.879575Z",
     "iopub.status.busy": "2025-08-22T04:41:34.879201Z",
     "iopub.status.idle": "2025-08-22T04:41:34.887909Z",
     "shell.execute_reply": "2025-08-22T04:41:34.886541Z"
    },
    "id": "uJmV85lxdaOt",
    "papermill": {
     "duration": 0.019788,
     "end_time": "2025-08-22T04:41:34.889524",
     "exception": false,
     "start_time": "2025-08-22T04:41:34.869736",
     "status": "completed"
    },
    "tags": []
   },
   "outputs": [],
   "source": [
    "X = df.drop(columns=['Personality'],axis=1)\n",
    "y = df['Personality']"
   ]
  },
  {
   "cell_type": "code",
   "execution_count": 17,
   "id": "dcf8fbe9",
   "metadata": {
    "execution": {
     "iopub.execute_input": "2025-08-22T04:41:34.909159Z",
     "iopub.status.busy": "2025-08-22T04:41:34.908779Z",
     "iopub.status.idle": "2025-08-22T04:41:34.914449Z",
     "shell.execute_reply": "2025-08-22T04:41:34.913484Z"
    },
    "id": "OTnXVKtHdml2",
    "papermill": {
     "duration": 0.017158,
     "end_time": "2025-08-22T04:41:34.916090",
     "exception": false,
     "start_time": "2025-08-22T04:41:34.898932",
     "status": "completed"
    },
    "tags": []
   },
   "outputs": [],
   "source": [
    "le = LabelEncoder()\n",
    "y_transformed = le.fit_transform(y)"
   ]
  },
  {
   "cell_type": "code",
   "execution_count": 18,
   "id": "cf890a90",
   "metadata": {
    "execution": {
     "iopub.execute_input": "2025-08-22T04:41:34.935313Z",
     "iopub.status.busy": "2025-08-22T04:41:34.934718Z",
     "iopub.status.idle": "2025-08-22T04:41:34.939175Z",
     "shell.execute_reply": "2025-08-22T04:41:34.938455Z"
    },
    "id": "myiBIJReducc",
    "papermill": {
     "duration": 0.015552,
     "end_time": "2025-08-22T04:41:34.940640",
     "exception": false,
     "start_time": "2025-08-22T04:41:34.925088",
     "status": "completed"
    },
    "tags": []
   },
   "outputs": [],
   "source": [
    "trf = ColumnTransformer(transformers=[\n",
    "    ('turf1',OneHotEncoder(sparse_output=False,drop='first'),['Stage_fear','Drained_after_socializing'])\n",
    "],remainder='passthrough')"
   ]
  },
  {
   "cell_type": "code",
   "execution_count": 19,
   "id": "c5cf7de5",
   "metadata": {
    "execution": {
     "iopub.execute_input": "2025-08-22T04:41:34.959357Z",
     "iopub.status.busy": "2025-08-22T04:41:34.958705Z",
     "iopub.status.idle": "2025-08-22T04:41:34.965724Z",
     "shell.execute_reply": "2025-08-22T04:41:34.964906Z"
    },
    "id": "gX5n8I5OejTL",
    "papermill": {
     "duration": 0.018023,
     "end_time": "2025-08-22T04:41:34.967205",
     "exception": false,
     "start_time": "2025-08-22T04:41:34.949182",
     "status": "completed"
    },
    "tags": []
   },
   "outputs": [],
   "source": [
    "X_train,X_test,y_train,y_test = train_test_split(X,y_transformed,test_size=0.2,random_state=42)"
   ]
  },
  {
   "cell_type": "code",
   "execution_count": 20,
   "id": "c3d399f9",
   "metadata": {
    "execution": {
     "iopub.execute_input": "2025-08-22T04:41:34.985949Z",
     "iopub.status.busy": "2025-08-22T04:41:34.985577Z",
     "iopub.status.idle": "2025-08-22T04:41:35.003262Z",
     "shell.execute_reply": "2025-08-22T04:41:35.002211Z"
    },
    "id": "RK5s7yywe77j",
    "papermill": {
     "duration": 0.028882,
     "end_time": "2025-08-22T04:41:35.004956",
     "exception": false,
     "start_time": "2025-08-22T04:41:34.976074",
     "status": "completed"
    },
    "tags": []
   },
   "outputs": [],
   "source": [
    "X_train_transformed = trf.fit_transform(X_train)\n",
    "X_test_transformed = trf.transform(X_test)"
   ]
  },
  {
   "cell_type": "code",
   "execution_count": 21,
   "id": "3cf5e55d",
   "metadata": {
    "execution": {
     "iopub.execute_input": "2025-08-22T04:41:35.023897Z",
     "iopub.status.busy": "2025-08-22T04:41:35.023521Z",
     "iopub.status.idle": "2025-08-22T04:41:35.027906Z",
     "shell.execute_reply": "2025-08-22T04:41:35.027068Z"
    },
    "id": "2VuupjDsfeH2",
    "papermill": {
     "duration": 0.015469,
     "end_time": "2025-08-22T04:41:35.029508",
     "exception": false,
     "start_time": "2025-08-22T04:41:35.014039",
     "status": "completed"
    },
    "tags": []
   },
   "outputs": [],
   "source": [
    "from sklearn.metrics import classification_report, accuracy_score"
   ]
  },
  {
   "cell_type": "code",
   "execution_count": 22,
   "id": "ecbd4256",
   "metadata": {
    "execution": {
     "iopub.execute_input": "2025-08-22T04:41:35.048677Z",
     "iopub.status.busy": "2025-08-22T04:41:35.048360Z",
     "iopub.status.idle": "2025-08-22T04:41:35.317107Z",
     "shell.execute_reply": "2025-08-22T04:41:35.311354Z"
    },
    "id": "lexBnN4EfIgi",
    "papermill": {
     "duration": 0.280914,
     "end_time": "2025-08-22T04:41:35.319608",
     "exception": false,
     "start_time": "2025-08-22T04:41:35.038694",
     "status": "completed"
    },
    "tags": []
   },
   "outputs": [],
   "source": [
    "model = LogisticRegression()\n",
    "model.fit(X_train_transformed, y_train)\n",
    "y_pred = model.predict(X_test_transformed)"
   ]
  },
  {
   "cell_type": "code",
   "execution_count": 23,
   "id": "9e610766",
   "metadata": {
    "execution": {
     "iopub.execute_input": "2025-08-22T04:41:35.349369Z",
     "iopub.status.busy": "2025-08-22T04:41:35.348532Z",
     "iopub.status.idle": "2025-08-22T04:41:35.363675Z",
     "shell.execute_reply": "2025-08-22T04:41:35.362905Z"
    },
    "id": "cHlmiB4rfVzl",
    "outputId": "a3903dbf-cfe4-47f8-9f8a-5469be3d3957",
    "papermill": {
     "duration": 0.032244,
     "end_time": "2025-08-22T04:41:35.365584",
     "exception": false,
     "start_time": "2025-08-22T04:41:35.333340",
     "status": "completed"
    },
    "tags": []
   },
   "outputs": [
    {
     "name": "stdout",
     "output_type": "stream",
     "text": [
      "              precision    recall  f1-score   support\n",
      "\n",
      "           0       0.93      0.92      0.93       302\n",
      "           1       0.91      0.93      0.92       278\n",
      "\n",
      "    accuracy                           0.92       580\n",
      "   macro avg       0.92      0.92      0.92       580\n",
      "weighted avg       0.92      0.92      0.92       580\n",
      "\n",
      "Accuracy: 0.9241379310344827\n"
     ]
    }
   ],
   "source": [
    "print(classification_report(y_test, y_pred))\n",
    "print(\"Accuracy:\", accuracy_score(y_test, y_pred))"
   ]
  },
  {
   "cell_type": "code",
   "execution_count": 24,
   "id": "ed53530b",
   "metadata": {
    "execution": {
     "iopub.execute_input": "2025-08-22T04:41:35.394060Z",
     "iopub.status.busy": "2025-08-22T04:41:35.393694Z",
     "iopub.status.idle": "2025-08-22T04:41:35.400511Z",
     "shell.execute_reply": "2025-08-22T04:41:35.399713Z"
    },
    "id": "e8ddc9de",
    "papermill": {
     "duration": 0.022903,
     "end_time": "2025-08-22T04:41:35.402318",
     "exception": false,
     "start_time": "2025-08-22T04:41:35.379415",
     "status": "completed"
    },
    "tags": []
   },
   "outputs": [],
   "source": [
    "import pickle\n",
    "\n",
    "# Save the trained model to a file\n",
    "filename = 'Personality.pkl'\n",
    "pickle.dump(model, open(filename, 'wb'))"
   ]
  },
  {
   "cell_type": "code",
   "execution_count": null,
   "id": "c8cc9078",
   "metadata": {
    "id": "nCALsQMch9OS",
    "papermill": {
     "duration": 0.013368,
     "end_time": "2025-08-22T04:41:35.429601",
     "exception": false,
     "start_time": "2025-08-22T04:41:35.416233",
     "status": "completed"
    },
    "tags": []
   },
   "outputs": [],
   "source": []
  }
 ],
 "metadata": {
  "colab": {
   "provenance": []
  },
  "kaggle": {
   "accelerator": "none",
   "dataSources": [
    {
     "datasetId": 8113862,
     "sourceId": 12829768,
     "sourceType": "datasetVersion"
    }
   ],
   "dockerImageVersionId": 31089,
   "isGpuEnabled": false,
   "isInternetEnabled": false,
   "language": "python",
   "sourceType": "notebook"
  },
  "kernelspec": {
   "display_name": "Python 3",
   "language": "python",
   "name": "python3"
  },
  "language_info": {
   "codemirror_mode": {
    "name": "ipython",
    "version": 3
   },
   "file_extension": ".py",
   "mimetype": "text/x-python",
   "name": "python",
   "nbconvert_exporter": "python",
   "pygments_lexer": "ipython3",
   "version": "3.11.13"
  },
  "papermill": {
   "default_parameters": {},
   "duration": 13.953175,
   "end_time": "2025-08-22T04:41:36.058228",
   "environment_variables": {},
   "exception": null,
   "input_path": "__notebook__.ipynb",
   "output_path": "__notebook__.ipynb",
   "parameters": {},
   "start_time": "2025-08-22T04:41:22.105053",
   "version": "2.6.0"
  }
 },
 "nbformat": 4,
 "nbformat_minor": 5
}
